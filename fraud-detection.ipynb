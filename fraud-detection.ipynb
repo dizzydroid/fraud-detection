{
 "cells": [
  {
   "cell_type": "code",
   "execution_count": 1,
   "id": "a8fb0543-9dcd-4bda-a7d7-e727f649ef8a",
   "metadata": {
    "tags": []
   },
   "outputs": [],
   "source": [
    "import os, pickle, json, numpy as np, pandas as pd, matplotlib.pyplot as plt\n",
    "from pathlib import Path\n",
    "from sklearn.model_selection import train_test_split\n",
    "from sklearn.preprocessing import LabelEncoder, StandardScaler\n",
    "from sklearn.pipeline import Pipeline\n",
    "from sklearn.neighbors import KNeighborsClassifier\n",
    "from sklearn.discriminant_analysis import LinearDiscriminantAnalysis\n",
    "from sklearn.linear_model import LinearRegression\n",
    "from sklearn.metrics import recall_score, confusion_matrix, classification_report\n",
    "\n",
    "RAW_CSV   = Path('data/raw/ps_raw.csv')"
   ]
  },
  {
   "cell_type": "code",
   "execution_count": 2,
   "id": "dfbf37de-7427-4d9f-825d-75afdcdc82f6",
   "metadata": {
    "tags": []
   },
   "outputs": [
    {
     "name": "stdout",
     "output_type": "stream",
     "text": [
      "(6362620, 11)\n"
     ]
    },
    {
     "data": {
      "text/html": [
       "<div>\n",
       "<style scoped>\n",
       "    .dataframe tbody tr th:only-of-type {\n",
       "        vertical-align: middle;\n",
       "    }\n",
       "\n",
       "    .dataframe tbody tr th {\n",
       "        vertical-align: top;\n",
       "    }\n",
       "\n",
       "    .dataframe thead th {\n",
       "        text-align: right;\n",
       "    }\n",
       "</style>\n",
       "<table border=\"1\" class=\"dataframe\">\n",
       "  <thead>\n",
       "    <tr style=\"text-align: right;\">\n",
       "      <th></th>\n",
       "      <th>step</th>\n",
       "      <th>type</th>\n",
       "      <th>amount</th>\n",
       "      <th>nameOrig</th>\n",
       "      <th>oldbalanceOrg</th>\n",
       "      <th>newbalanceOrig</th>\n",
       "      <th>nameDest</th>\n",
       "      <th>oldbalanceDest</th>\n",
       "      <th>newbalanceDest</th>\n",
       "      <th>isFraud</th>\n",
       "      <th>isFlaggedFraud</th>\n",
       "    </tr>\n",
       "  </thead>\n",
       "  <tbody>\n",
       "    <tr>\n",
       "      <th>0</th>\n",
       "      <td>1</td>\n",
       "      <td>PAYMENT</td>\n",
       "      <td>9839.64</td>\n",
       "      <td>C1231006815</td>\n",
       "      <td>170136.0</td>\n",
       "      <td>160296.36</td>\n",
       "      <td>M1979787155</td>\n",
       "      <td>0.0</td>\n",
       "      <td>0.0</td>\n",
       "      <td>0</td>\n",
       "      <td>0</td>\n",
       "    </tr>\n",
       "    <tr>\n",
       "      <th>1</th>\n",
       "      <td>1</td>\n",
       "      <td>PAYMENT</td>\n",
       "      <td>1864.28</td>\n",
       "      <td>C1666544295</td>\n",
       "      <td>21249.0</td>\n",
       "      <td>19384.72</td>\n",
       "      <td>M2044282225</td>\n",
       "      <td>0.0</td>\n",
       "      <td>0.0</td>\n",
       "      <td>0</td>\n",
       "      <td>0</td>\n",
       "    </tr>\n",
       "    <tr>\n",
       "      <th>2</th>\n",
       "      <td>1</td>\n",
       "      <td>TRANSFER</td>\n",
       "      <td>181.00</td>\n",
       "      <td>C1305486145</td>\n",
       "      <td>181.0</td>\n",
       "      <td>0.00</td>\n",
       "      <td>C553264065</td>\n",
       "      <td>0.0</td>\n",
       "      <td>0.0</td>\n",
       "      <td>1</td>\n",
       "      <td>0</td>\n",
       "    </tr>\n",
       "    <tr>\n",
       "      <th>3</th>\n",
       "      <td>1</td>\n",
       "      <td>CASH_OUT</td>\n",
       "      <td>181.00</td>\n",
       "      <td>C840083671</td>\n",
       "      <td>181.0</td>\n",
       "      <td>0.00</td>\n",
       "      <td>C38997010</td>\n",
       "      <td>21182.0</td>\n",
       "      <td>0.0</td>\n",
       "      <td>1</td>\n",
       "      <td>0</td>\n",
       "    </tr>\n",
       "    <tr>\n",
       "      <th>4</th>\n",
       "      <td>1</td>\n",
       "      <td>PAYMENT</td>\n",
       "      <td>11668.14</td>\n",
       "      <td>C2048537720</td>\n",
       "      <td>41554.0</td>\n",
       "      <td>29885.86</td>\n",
       "      <td>M1230701703</td>\n",
       "      <td>0.0</td>\n",
       "      <td>0.0</td>\n",
       "      <td>0</td>\n",
       "      <td>0</td>\n",
       "    </tr>\n",
       "  </tbody>\n",
       "</table>\n",
       "</div>"
      ],
      "text/plain": [
       "   step      type    amount     nameOrig  oldbalanceOrg  newbalanceOrig  \\\n",
       "0     1   PAYMENT   9839.64  C1231006815       170136.0       160296.36   \n",
       "1     1   PAYMENT   1864.28  C1666544295        21249.0        19384.72   \n",
       "2     1  TRANSFER    181.00  C1305486145          181.0            0.00   \n",
       "3     1  CASH_OUT    181.00   C840083671          181.0            0.00   \n",
       "4     1   PAYMENT  11668.14  C2048537720        41554.0        29885.86   \n",
       "\n",
       "      nameDest  oldbalanceDest  newbalanceDest  isFraud  isFlaggedFraud  \n",
       "0  M1979787155             0.0             0.0        0               0  \n",
       "1  M2044282225             0.0             0.0        0               0  \n",
       "2   C553264065             0.0             0.0        1               0  \n",
       "3    C38997010         21182.0             0.0        1               0  \n",
       "4  M1230701703             0.0             0.0        0               0  "
      ]
     },
     "execution_count": 2,
     "metadata": {},
     "output_type": "execute_result"
    }
   ],
   "source": [
    "df_raw = pd.read_csv(RAW_CSV)\n",
    "print(df_raw.shape)\n",
    "df_raw.head()"
   ]
  },
  {
   "cell_type": "code",
   "execution_count": 3,
   "id": "73ac7d40-3cf2-42d3-bf43-05cbe93ca38c",
   "metadata": {
    "tags": []
   },
   "outputs": [
    {
     "data": {
      "text/html": [
       "<div>\n",
       "<style scoped>\n",
       "    .dataframe tbody tr th:only-of-type {\n",
       "        vertical-align: middle;\n",
       "    }\n",
       "\n",
       "    .dataframe tbody tr th {\n",
       "        vertical-align: top;\n",
       "    }\n",
       "\n",
       "    .dataframe thead th {\n",
       "        text-align: right;\n",
       "    }\n",
       "</style>\n",
       "<table border=\"1\" class=\"dataframe\">\n",
       "  <thead>\n",
       "    <tr style=\"text-align: right;\">\n",
       "      <th></th>\n",
       "      <th>step</th>\n",
       "      <th>type</th>\n",
       "      <th>amount</th>\n",
       "      <th>nameOrig</th>\n",
       "      <th>oldbalanceOrg</th>\n",
       "      <th>newbalanceOrig</th>\n",
       "      <th>nameDest</th>\n",
       "      <th>oldbalanceDest</th>\n",
       "      <th>newbalanceDest</th>\n",
       "      <th>isFraud</th>\n",
       "      <th>isFlaggedFraud</th>\n",
       "    </tr>\n",
       "  </thead>\n",
       "  <tbody>\n",
       "    <tr>\n",
       "      <th>0</th>\n",
       "      <td>1</td>\n",
       "      <td>3</td>\n",
       "      <td>9839.64</td>\n",
       "      <td>757869</td>\n",
       "      <td>170136.0</td>\n",
       "      <td>160296.36</td>\n",
       "      <td>1662094</td>\n",
       "      <td>0.0</td>\n",
       "      <td>0.0</td>\n",
       "      <td>0</td>\n",
       "      <td>0</td>\n",
       "    </tr>\n",
       "    <tr>\n",
       "      <th>1</th>\n",
       "      <td>1</td>\n",
       "      <td>3</td>\n",
       "      <td>1864.28</td>\n",
       "      <td>2188998</td>\n",
       "      <td>21249.0</td>\n",
       "      <td>19384.72</td>\n",
       "      <td>1733924</td>\n",
       "      <td>0.0</td>\n",
       "      <td>0.0</td>\n",
       "      <td>0</td>\n",
       "      <td>0</td>\n",
       "    </tr>\n",
       "    <tr>\n",
       "      <th>2</th>\n",
       "      <td>1</td>\n",
       "      <td>4</td>\n",
       "      <td>181.00</td>\n",
       "      <td>1002156</td>\n",
       "      <td>181.0</td>\n",
       "      <td>0.00</td>\n",
       "      <td>439685</td>\n",
       "      <td>0.0</td>\n",
       "      <td>0.0</td>\n",
       "      <td>1</td>\n",
       "      <td>0</td>\n",
       "    </tr>\n",
       "    <tr>\n",
       "      <th>3</th>\n",
       "      <td>1</td>\n",
       "      <td>1</td>\n",
       "      <td>181.00</td>\n",
       "      <td>5828262</td>\n",
       "      <td>181.0</td>\n",
       "      <td>0.00</td>\n",
       "      <td>391696</td>\n",
       "      <td>21182.0</td>\n",
       "      <td>0.0</td>\n",
       "      <td>1</td>\n",
       "      <td>0</td>\n",
       "    </tr>\n",
       "    <tr>\n",
       "      <th>4</th>\n",
       "      <td>1</td>\n",
       "      <td>3</td>\n",
       "      <td>11668.14</td>\n",
       "      <td>3445981</td>\n",
       "      <td>41554.0</td>\n",
       "      <td>29885.86</td>\n",
       "      <td>828919</td>\n",
       "      <td>0.0</td>\n",
       "      <td>0.0</td>\n",
       "      <td>0</td>\n",
       "      <td>0</td>\n",
       "    </tr>\n",
       "  </tbody>\n",
       "</table>\n",
       "</div>"
      ],
      "text/plain": [
       "   step  type    amount  nameOrig  oldbalanceOrg  newbalanceOrig  nameDest  \\\n",
       "0     1     3   9839.64    757869       170136.0       160296.36   1662094   \n",
       "1     1     3   1864.28   2188998        21249.0        19384.72   1733924   \n",
       "2     1     4    181.00   1002156          181.0            0.00    439685   \n",
       "3     1     1    181.00   5828262          181.0            0.00    391696   \n",
       "4     1     3  11668.14   3445981        41554.0        29885.86    828919   \n",
       "\n",
       "   oldbalanceDest  newbalanceDest  isFraud  isFlaggedFraud  \n",
       "0             0.0             0.0        0               0  \n",
       "1             0.0             0.0        0               0  \n",
       "2             0.0             0.0        1               0  \n",
       "3         21182.0             0.0        1               0  \n",
       "4             0.0             0.0        0               0  "
      ]
     },
     "execution_count": 3,
     "metadata": {},
     "output_type": "execute_result"
    }
   ],
   "source": [
    "cat_cols = ['type','nameOrig','nameDest']\n",
    "encoders = {}\n",
    "df = df_raw.copy()\n",
    "for col in cat_cols:\n",
    "    le = LabelEncoder()\n",
    "    df[col] = le.fit_transform(df[col])\n",
    "    encoders[col] = le\n",
    "df.head()"
   ]
  },
  {
   "cell_type": "code",
   "execution_count": 4,
   "id": "e115cc40-058f-4a9d-b3fb-86b71f1fe473",
   "metadata": {
    "tags": []
   },
   "outputs": [
    {
     "name": "stdout",
     "output_type": "stream",
     "text": [
      "{'train': (5090096, 10), 'test': (1272524, 10)}\n",
      "Fraud rate train 0.1291% | test 0.1291%\n"
     ]
    }
   ],
   "source": [
    "X = df.drop('isFraud', axis=1).values\n",
    "y = df['isFraud'].values\n",
    "X_train, X_test, y_train, y_test = train_test_split(\n",
    "    X, y, test_size=0.20, stratify=y, random_state=42, shuffle=True)\n",
    "print({ 'train': X_train.shape, 'test': X_test.shape })\n",
    "print('Fraud rate train %.4f%% | test %.4f%%' % (y_train.mean()*100, y_test.mean()*100))"
   ]
  },
  {
   "cell_type": "code",
   "execution_count": 9,
   "id": "8a5a373b-7708-4eef-a233-0541fe269ec7",
   "metadata": {
    "tags": []
   },
   "outputs": [],
   "source": [
    "def pipe(model):\n",
    "    return Pipeline([('scaler', StandardScaler()), ('model', model)])"
   ]
  },
  {
   "cell_type": "code",
   "execution_count": 10,
   "id": "e770ee1d-f6a8-4576-ad16-0b3916e6f970",
   "metadata": {
    "tags": []
   },
   "outputs": [
    {
     "name": "stdout",
     "output_type": "stream",
     "text": [
      "knn fitted\n",
      "lda fitted\n",
      "linreg fitted\n"
     ]
    }
   ],
   "source": [
    "models = {\n",
    "    'knn': pipe(KNeighborsClassifier(n_neighbors=5, weights='uniform', n_jobs=-1)), # dol el knn\n",
    "    'lda': pipe(LinearDiscriminantAnalysis()),\n",
    "    'linreg': pipe(LinearRegression()) #redefined yep sklearn yep\n",
    "}\n",
    "for name, mdl in models.items():\n",
    "    mdl.fit(X_train, y_train)\n",
    "    print(f'{name} fitted')\n"
   ]
  },
  {
   "cell_type": "code",
   "execution_count": 12,
   "id": "edd25015-8fc1-438e-bf9c-0e2a7c7b0585",
   "metadata": {
    "tags": []
   },
   "outputs": [],
   "source": [
    "def lr_scores(model, X):\n",
    "    # pipeline steps: scaler then model\n",
    "    scaler = model.named_steps['scaler']\n",
    "    reg    = model.named_steps['model']\n",
    "    Xs = scaler.transform(X)\n",
    "    return reg.predict(Xs)\n",
    "\n",
    "# metrics = {}\n",
    "# for name, mdl in models.items():\n",
    "#     if name == 'linreg':\n",
    "#         # threshold at mean of test scores\n",
    "#         scores = lr_scores(mdl, X_test)\n",
    "#         y_pred = (scores > scores.mean()).astype(int)\n",
    "#     else:\n",
    "#         y_pred = mdl.predict(X_test)\n",
    "#     rec = recall_score(y_test, y_pred)\n",
    "#     metrics[name] = rec\n",
    "# metrics"
   ]
  },
  {
   "cell_type": "code",
   "execution_count": 13,
   "id": "62e35be5-964b-41bc-b936-1bb1b12f3915",
   "metadata": {
    "tags": []
   },
   "outputs": [
    {
     "name": "stdout",
     "output_type": "stream",
     "text": [
      "Ensemble recall: 0.3377967133292757\n",
      "[[1270881       0]\n",
      " [   1088     555]]\n"
     ]
    }
   ],
   "source": [
    "knn_pred = models['knn'].predict(X_test)\n",
    "lda_pred = models['lda'].predict(X_test)\n",
    "lr_score = lr_scores(models['linreg'], X_test)\n",
    "lr_mean  = lr_score.mean()\n",
    "\n",
    "ensemble = np.zeros_like(knn_pred)\n",
    "for i in range(len(knn_pred)):\n",
    "    # If \"non-fraud\" is indicated by either KNN or LDA\n",
    "    if knn_pred[i] == 0 or lda_pred[i] == 0:\n",
    "        if lr_score[i] < lr_mean:\n",
    "            ensemble[i] = 0  # Predict non-fraud\n",
    "    # If \"fraud\" is indicated by either KNN or LDA\n",
    "    elif knn_pred[i] == 1 or lda_pred[i] == 1:\n",
    "        if lr_score[i] > lr_mean:\n",
    "            ensemble[i] = 1  # Predict fraud\n",
    "    # Otherwise, allocate predicted values from KNN to remaining cases\n",
    "    else:\n",
    "        ensemble[i] = knn_pred[i]\n",
    "\n",
    "print('Ensemble recall:', recall_score(y_test, ensemble))\n",
    "print(confusion_matrix(y_test, ensemble))"
   ]
  },
  {
   "cell_type": "code",
   "execution_count": 9,
   "id": "70abaf7f-6c8d-4a02-b5d6-d08d8f89b712",
   "metadata": {
    "tags": []
   },
   "outputs": [
    {
     "name": "stdout",
     "output_type": "stream",
     "text": [
      "Saved models and predictions to artifacts/\n"
     ]
    }
   ],
   "source": [
    "ART_DIR = Path('artifacts'); ART_DIR.mkdir(exist_ok=True)\n",
    "import joblib, numpy as np\n",
    "for name, mdl in models.items():\n",
    "    joblib.dump(mdl, ART_DIR / f'{name}.pkl')\n",
    "np.save(ART_DIR / 'y_true.npy', y_test)\n",
    "np.save(ART_DIR / 'y_pred.npy', ensemble)\n",
    "print('Saved models and predictions to artifacts/')"
   ]
  },
  {
   "cell_type": "markdown",
   "id": "de5713f9-b048-476c-a5c1-5307d2321bc3",
   "metadata": {},
   "source": [
    "zero matrix with same shape"
   ]
  }
 ],
 "metadata": {
  "kernelspec": {
   "display_name": ".conda-default:Python",
   "language": "python",
   "name": "conda-env-.conda-default-py"
  },
  "language_info": {
   "codemirror_mode": {
    "name": "ipython",
    "version": 3
   },
   "file_extension": ".py",
   "mimetype": "text/x-python",
   "name": "python",
   "nbconvert_exporter": "python",
   "pygments_lexer": "ipython3",
   "version": "3.9.19"
  }
 },
 "nbformat": 4,
 "nbformat_minor": 5
}
