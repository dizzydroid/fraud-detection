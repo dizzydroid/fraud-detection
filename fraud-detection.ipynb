{
 "cells": [
  {
   "cell_type": "markdown",
   "id": "0fc2aee0-9052-4f04-9f1a-54200fece607",
   "metadata": {},
   "source": [
    "# CSE476 - Fraud Detection Ensemble (Chung & Lee 2023, PaySim)\n",
    "**Team Members:**\n",
    "1. Shehab Mahmoud Salah (2100320)\n",
    "2. Abdelrahman Hany Mohamed (2100627)\n",
    "3. Youssef Ahmed Mohamed (2101006)\n",
    "4. Omar Mamon Hamed (2100767)\n",
    "5. Seif El Din Tamer Shawky (2100268)\n",
    "6. Seif Eldeen Ahmed Abdulaziz (2100339)\n",
    "7. Habiba El-sayed Mowafy (2100792)\n",
    "8. Aya Tarek Salem (2100573)\n",
    "9. Moaz Ragab (2100938)\n",
    "10. Ahmed Ashraf Ali (2100255)"
   ]
  },
  {
   "cell_type": "markdown",
   "id": "751a3ffb-00a1-41ec-81be-3e5c68cc31ee",
   "metadata": {},
   "source": [
    "## Project Overview\n",
    "\n",
    "This notebook implements and expands upon the 2023 Chung & Lee ensemble approach for fraud detection, using the PaySim dataset.  \n",
    "Our main goal is to achieve **perfect recall (recall = 1.0)**, ensuring all fraudulent cases are detected, while analyzing the trade-off with other metrics.  \n",
    "The PaySim dataset simulates mobile money transactions and presents a highly imbalanced fraud detection challenge.\n",
    "\n",
    "**Motivation:**  \n",
    "In fraud detection, missing a fraudulent transaction (false negative) can be much more costly than a false positive. Therefore, maximizing recall is critical, even if it comes at the expense of precision.\n",
    "\n",
    "**Reference:**  \n",
    "[Chung, H., & Lee, J. (2023). \"A High-Recall Ensemble Approach for Fraud Detection in Financial Transactions.\"  ](https://www.mdpi.com/1424-8220/23/18/7788) <br>\n",
    "[PaySim Dataset on Kaggle](https://www.kaggle.com/datasets/ntnu-testimon/paysim1)"
   ]
  },
  {
   "cell_type": "markdown",
   "id": "ff77b446-ff48-49df-bf3a-06cde125155a",
   "metadata": {
    "tags": []
   },
   "source": [
    "## Imports and Setup"
   ]
  },
  {
   "cell_type": "code",
   "execution_count": 1,
   "id": "1e428481-c208-4686-a32f-2ac8459491a7",
   "metadata": {
    "tags": []
   },
   "outputs": [],
   "source": [
    "# Standard Libraries\n",
    "import os\n",
    "from pathlib import Path\n",
    "\n",
    "# Data manipulation\n",
    "import numpy as np\n",
    "import pandas as pd\n",
    "\n",
    "# Visualization\n",
    "import matplotlib.pyplot as plt\n",
    "import seaborn as sns\n",
    "\n",
    "# Machine Learning & Preprocessing\n",
    "from sklearn.model_selection import train_test_split\n",
    "from sklearn.preprocessing import LabelEncoder, StandardScaler\n",
    "from sklearn.pipeline import Pipeline\n",
    "from sklearn.metrics import recall_score, confusion_matrix, classification_report, precision_score, accuracy_score\n",
    "\n",
    "# Classifiers\n",
    "from sklearn.neighbors import KNeighborsClassifier\n",
    "from sklearn.discriminant_analysis import LinearDiscriminantAnalysis\n",
    "from sklearn.linear_model import LogisticRegression, LinearRegression\n",
    "from sklearn.tree import DecisionTreeClassifier\n",
    "from sklearn.ensemble import RandomForestClassifier\n",
    "from sklearn.naive_bayes import GaussianNB\n",
    "\n",
    "# Saving artifacts\n",
    "import joblib\n",
    "\n",
    "# Plotting style\n",
    "sns.set(style='whitegrid', font_scale=1.1)\n",
    "plt.rcParams['figure.figsize'] = (8, 5)\n",
    "\n",
    "# Set random seed for reproducibility\n",
    "RANDOM_STATE = 42\n",
    "np.random.seed(RANDOM_STATE)"
   ]
  },
  {
   "cell_type": "markdown",
   "id": "dc0668ae-3464-412a-9061-cd3cfed7d826",
   "metadata": {},
   "source": [
    "## Data Loading and Initial Exploration\n",
    "\n",
    "We load the PaySim dataset and perform basic exploratory analysis to understand its structure and class distribution."
   ]
  },
  {
   "cell_type": "code",
   "execution_count": 2,
   "id": "20916104-a9b3-4c59-9cec-3d67e2fc61f2",
   "metadata": {
    "tags": []
   },
   "outputs": [
    {
     "name": "stdout",
     "output_type": "stream",
     "text": [
      "Dataset shape: (6362620, 11)\n"
     ]
    },
    {
     "data": {
      "text/html": [
       "<div>\n",
       "<style scoped>\n",
       "    .dataframe tbody tr th:only-of-type {\n",
       "        vertical-align: middle;\n",
       "    }\n",
       "\n",
       "    .dataframe tbody tr th {\n",
       "        vertical-align: top;\n",
       "    }\n",
       "\n",
       "    .dataframe thead th {\n",
       "        text-align: right;\n",
       "    }\n",
       "</style>\n",
       "<table border=\"1\" class=\"dataframe\">\n",
       "  <thead>\n",
       "    <tr style=\"text-align: right;\">\n",
       "      <th></th>\n",
       "      <th>step</th>\n",
       "      <th>type</th>\n",
       "      <th>amount</th>\n",
       "      <th>nameOrig</th>\n",
       "      <th>oldbalanceOrg</th>\n",
       "      <th>newbalanceOrig</th>\n",
       "      <th>nameDest</th>\n",
       "      <th>oldbalanceDest</th>\n",
       "      <th>newbalanceDest</th>\n",
       "      <th>isFraud</th>\n",
       "      <th>isFlaggedFraud</th>\n",
       "    </tr>\n",
       "  </thead>\n",
       "  <tbody>\n",
       "    <tr>\n",
       "      <th>0</th>\n",
       "      <td>1</td>\n",
       "      <td>PAYMENT</td>\n",
       "      <td>9839.64</td>\n",
       "      <td>C1231006815</td>\n",
       "      <td>170136.0</td>\n",
       "      <td>160296.36</td>\n",
       "      <td>M1979787155</td>\n",
       "      <td>0.0</td>\n",
       "      <td>0.0</td>\n",
       "      <td>0</td>\n",
       "      <td>0</td>\n",
       "    </tr>\n",
       "    <tr>\n",
       "      <th>1</th>\n",
       "      <td>1</td>\n",
       "      <td>PAYMENT</td>\n",
       "      <td>1864.28</td>\n",
       "      <td>C1666544295</td>\n",
       "      <td>21249.0</td>\n",
       "      <td>19384.72</td>\n",
       "      <td>M2044282225</td>\n",
       "      <td>0.0</td>\n",
       "      <td>0.0</td>\n",
       "      <td>0</td>\n",
       "      <td>0</td>\n",
       "    </tr>\n",
       "    <tr>\n",
       "      <th>2</th>\n",
       "      <td>1</td>\n",
       "      <td>TRANSFER</td>\n",
       "      <td>181.00</td>\n",
       "      <td>C1305486145</td>\n",
       "      <td>181.0</td>\n",
       "      <td>0.00</td>\n",
       "      <td>C553264065</td>\n",
       "      <td>0.0</td>\n",
       "      <td>0.0</td>\n",
       "      <td>1</td>\n",
       "      <td>0</td>\n",
       "    </tr>\n",
       "    <tr>\n",
       "      <th>3</th>\n",
       "      <td>1</td>\n",
       "      <td>CASH_OUT</td>\n",
       "      <td>181.00</td>\n",
       "      <td>C840083671</td>\n",
       "      <td>181.0</td>\n",
       "      <td>0.00</td>\n",
       "      <td>C38997010</td>\n",
       "      <td>21182.0</td>\n",
       "      <td>0.0</td>\n",
       "      <td>1</td>\n",
       "      <td>0</td>\n",
       "    </tr>\n",
       "    <tr>\n",
       "      <th>4</th>\n",
       "      <td>1</td>\n",
       "      <td>PAYMENT</td>\n",
       "      <td>11668.14</td>\n",
       "      <td>C2048537720</td>\n",
       "      <td>41554.0</td>\n",
       "      <td>29885.86</td>\n",
       "      <td>M1230701703</td>\n",
       "      <td>0.0</td>\n",
       "      <td>0.0</td>\n",
       "      <td>0</td>\n",
       "      <td>0</td>\n",
       "    </tr>\n",
       "  </tbody>\n",
       "</table>\n",
       "</div>"
      ],
      "text/plain": [
       "   step      type    amount     nameOrig  oldbalanceOrg  newbalanceOrig  \\\n",
       "0     1   PAYMENT   9839.64  C1231006815       170136.0       160296.36   \n",
       "1     1   PAYMENT   1864.28  C1666544295        21249.0        19384.72   \n",
       "2     1  TRANSFER    181.00  C1305486145          181.0            0.00   \n",
       "3     1  CASH_OUT    181.00   C840083671          181.0            0.00   \n",
       "4     1   PAYMENT  11668.14  C2048537720        41554.0        29885.86   \n",
       "\n",
       "      nameDest  oldbalanceDest  newbalanceDest  isFraud  isFlaggedFraud  \n",
       "0  M1979787155             0.0             0.0        0               0  \n",
       "1  M2044282225             0.0             0.0        0               0  \n",
       "2   C553264065             0.0             0.0        1               0  \n",
       "3    C38997010         21182.0             0.0        1               0  \n",
       "4  M1230701703             0.0             0.0        0               0  "
      ]
     },
     "metadata": {},
     "output_type": "display_data"
    },
    {
     "name": "stdout",
     "output_type": "stream",
     "text": [
      "<class 'pandas.core.frame.DataFrame'>\n",
      "RangeIndex: 6362620 entries, 0 to 6362619\n",
      "Data columns (total 11 columns):\n",
      " #   Column          Dtype  \n",
      "---  ------          -----  \n",
      " 0   step            int64  \n",
      " 1   type            object \n",
      " 2   amount          float64\n",
      " 3   nameOrig        object \n",
      " 4   oldbalanceOrg   float64\n",
      " 5   newbalanceOrig  float64\n",
      " 6   nameDest        object \n",
      " 7   oldbalanceDest  float64\n",
      " 8   newbalanceDest  float64\n",
      " 9   isFraud         int64  \n",
      " 10  isFlaggedFraud  int64  \n",
      "dtypes: float64(5), int64(3), object(3)\n",
      "memory usage: 534.0+ MB\n"
     ]
    }
   ],
   "source": [
    "# Set the path to the raw data CSV (update this if your data is elsewhere)\n",
    "RAW_CSV = Path('data/raw/ps_raw.csv')\n",
    "\n",
    "# Load the dataset\n",
    "df_raw = pd.read_csv(RAW_CSV)\n",
    "print(f\"Dataset shape: {df_raw.shape}\")\n",
    "display(df_raw.head())\n",
    "\n",
    "# Basic info\n",
    "df_raw.info()"
   ]
  },
  {
   "cell_type": "markdown",
   "id": "3111b6da-c4b5-4fc7-942b-7f7c5176850d",
   "metadata": {},
   "source": [
    "> **Note on Label Convention:**  \n",
    "> In this notebook, we follow the paper's approach where the `isFraud` label is inverted:  \n",
    "> - `1` indicates **Non-Fraud**  \n",
    "> - `0` indicates **Fraud**  \n",
    "> This convention is the opposite of the standard, where `1` usually means Fraud. Please interpret all results accordingly."
   ]
  },
  {
   "cell_type": "markdown",
   "id": "9ff0dfc4-bfe8-4f98-a72c-522c6c345e83",
   "metadata": {},
   "source": [
    "## Feature Exploration and Preprocessing\n",
    "\n",
    "We examine categorical and numerical features, encode categories appropriately, and scale numerical features."
   ]
  },
  {
   "cell_type": "code",
   "execution_count": 3,
   "id": "ffce61b2-20c3-4772-a764-515b078e3785",
   "metadata": {
    "tags": []
   },
   "outputs": [
    {
     "data": {
      "text/html": [
       "<div>\n",
       "<style scoped>\n",
       "    .dataframe tbody tr th:only-of-type {\n",
       "        vertical-align: middle;\n",
       "    }\n",
       "\n",
       "    .dataframe tbody tr th {\n",
       "        vertical-align: top;\n",
       "    }\n",
       "\n",
       "    .dataframe thead th {\n",
       "        text-align: right;\n",
       "    }\n",
       "</style>\n",
       "<table border=\"1\" class=\"dataframe\">\n",
       "  <thead>\n",
       "    <tr style=\"text-align: right;\">\n",
       "      <th></th>\n",
       "      <th>step</th>\n",
       "      <th>type</th>\n",
       "      <th>amount</th>\n",
       "      <th>nameOrig</th>\n",
       "      <th>oldbalanceOrg</th>\n",
       "      <th>newbalanceOrig</th>\n",
       "      <th>nameDest</th>\n",
       "      <th>oldbalanceDest</th>\n",
       "      <th>newbalanceDest</th>\n",
       "      <th>isFraud</th>\n",
       "      <th>isFlaggedFraud</th>\n",
       "    </tr>\n",
       "  </thead>\n",
       "  <tbody>\n",
       "    <tr>\n",
       "      <th>0</th>\n",
       "      <td>1</td>\n",
       "      <td>3</td>\n",
       "      <td>9839.64</td>\n",
       "      <td>757869</td>\n",
       "      <td>170136.0</td>\n",
       "      <td>160296.36</td>\n",
       "      <td>1662094</td>\n",
       "      <td>0.0</td>\n",
       "      <td>0.0</td>\n",
       "      <td>0</td>\n",
       "      <td>0</td>\n",
       "    </tr>\n",
       "    <tr>\n",
       "      <th>1</th>\n",
       "      <td>1</td>\n",
       "      <td>3</td>\n",
       "      <td>1864.28</td>\n",
       "      <td>2188998</td>\n",
       "      <td>21249.0</td>\n",
       "      <td>19384.72</td>\n",
       "      <td>1733924</td>\n",
       "      <td>0.0</td>\n",
       "      <td>0.0</td>\n",
       "      <td>0</td>\n",
       "      <td>0</td>\n",
       "    </tr>\n",
       "    <tr>\n",
       "      <th>2</th>\n",
       "      <td>1</td>\n",
       "      <td>4</td>\n",
       "      <td>181.00</td>\n",
       "      <td>1002156</td>\n",
       "      <td>181.0</td>\n",
       "      <td>0.00</td>\n",
       "      <td>439685</td>\n",
       "      <td>0.0</td>\n",
       "      <td>0.0</td>\n",
       "      <td>1</td>\n",
       "      <td>0</td>\n",
       "    </tr>\n",
       "    <tr>\n",
       "      <th>3</th>\n",
       "      <td>1</td>\n",
       "      <td>1</td>\n",
       "      <td>181.00</td>\n",
       "      <td>5828262</td>\n",
       "      <td>181.0</td>\n",
       "      <td>0.00</td>\n",
       "      <td>391696</td>\n",
       "      <td>21182.0</td>\n",
       "      <td>0.0</td>\n",
       "      <td>1</td>\n",
       "      <td>0</td>\n",
       "    </tr>\n",
       "    <tr>\n",
       "      <th>4</th>\n",
       "      <td>1</td>\n",
       "      <td>3</td>\n",
       "      <td>11668.14</td>\n",
       "      <td>3445981</td>\n",
       "      <td>41554.0</td>\n",
       "      <td>29885.86</td>\n",
       "      <td>828919</td>\n",
       "      <td>0.0</td>\n",
       "      <td>0.0</td>\n",
       "      <td>0</td>\n",
       "      <td>0</td>\n",
       "    </tr>\n",
       "  </tbody>\n",
       "</table>\n",
       "</div>"
      ],
      "text/plain": [
       "   step  type    amount  nameOrig  oldbalanceOrg  newbalanceOrig  nameDest  \\\n",
       "0     1     3   9839.64    757869       170136.0       160296.36   1662094   \n",
       "1     1     3   1864.28   2188998        21249.0        19384.72   1733924   \n",
       "2     1     4    181.00   1002156          181.0            0.00    439685   \n",
       "3     1     1    181.00   5828262          181.0            0.00    391696   \n",
       "4     1     3  11668.14   3445981        41554.0        29885.86    828919   \n",
       "\n",
       "   oldbalanceDest  newbalanceDest  isFraud  isFlaggedFraud  \n",
       "0             0.0             0.0        0               0  \n",
       "1             0.0             0.0        0               0  \n",
       "2             0.0             0.0        1               0  \n",
       "3         21182.0             0.0        1               0  \n",
       "4             0.0             0.0        0               0  "
      ]
     },
     "execution_count": 3,
     "metadata": {},
     "output_type": "execute_result"
    }
   ],
   "source": [
    "# Identify categorical columns\n",
    "cat_cols = ['type', 'nameOrig', 'nameDest']\n",
    "\n",
    "# Encode categorical features (LabelEncoder for simplicity/consistency with original paper)\n",
    "encoders = {}\n",
    "df = df_raw.copy()\n",
    "for col in cat_cols:\n",
    "    le = LabelEncoder()\n",
    "    df[col] = le.fit_transform(df[col])\n",
    "    encoders[col] = le\n",
    "\n",
    "df.head()"
   ]
  },
  {
   "cell_type": "code",
   "execution_count": 4,
   "id": "8f7cb727-1119-4104-ab2e-4e85225a1d86",
   "metadata": {
    "tags": []
   },
   "outputs": [
    {
     "name": "stdout",
     "output_type": "stream",
     "text": [
      "No missing values detected.\n"
     ]
    }
   ],
   "source": [
    "# Check for missing values\n",
    "missing = df.isnull().sum()\n",
    "print(missing[missing > 0] if (missing > 0).any() else 'No missing values detected.')"
   ]
  },
  {
   "cell_type": "markdown",
   "id": "47c7f7bc-9fca-4336-821e-2388d1aabb18",
   "metadata": {},
   "source": [
    "## Train/Test Split\n",
    "\n",
    "We split the data into training and test sets, maintaining class balance via stratification."
   ]
  },
  {
   "cell_type": "code",
   "execution_count": 5,
   "id": "46fc7fd4-3ad9-48fc-a90b-d0c4ede494c7",
   "metadata": {
    "tags": []
   },
   "outputs": [
    {
     "name": "stdout",
     "output_type": "stream",
     "text": [
      "{'train': (5090096, 10), 'test': (1272524, 10)}\n",
      "Non fraud rate train 0.1291% | test 0.1291%\n"
     ]
    }
   ],
   "source": [
    "# Prepare features and target\n",
    "X = df.drop('isFraud', axis=1).values\n",
    "y = df['isFraud'].values\n",
    "\n",
    "X_train, X_test, y_train, y_test = train_test_split(\n",
    "    X, y, test_size=0.20, stratify=y, random_state=42, shuffle=True)\n",
    "\n",
    "print({ 'train': X_train.shape, 'test': X_test.shape })\n",
    "print('Non fraud rate train %.4f%% | test %.4f%%' % (y_train.mean()*100, y_test.mean()*100))"
   ]
  },
  {
   "cell_type": "markdown",
   "id": "4a13be03-a7b4-4d78-856b-ac7827c4c4f7",
   "metadata": {},
   "source": [
    "## Model Definition and Training\n",
    "\n",
    "We define pipelines for several classifiers including those from the original paper (KNN, LDA, Linear Regression) and additional models (Logistic Regression, Decision Tree, Random Forest, Naive Bayes) for comprehensive comparison.\n",
    "\n",
    "Our focus is on maximizing recall for fraud cases."
   ]
  },
  {
   "cell_type": "code",
   "execution_count": 6,
   "id": "6d008937-47bd-47fb-bcf6-246a82b22024",
   "metadata": {
    "tags": []
   },
   "outputs": [
    {
     "name": "stdout",
     "output_type": "stream",
     "text": [
      "KNN fitted.\n",
      "LDA fitted.\n",
      "LinearRegression fitted.\n",
      "LogisticRegression fitted.\n",
      "DecisionTree fitted.\n",
      "NaiveBayes fitted.\n"
     ]
    }
   ],
   "source": [
    "def pipe(model):\n",
    "    \"\"\"Create a pipeline with standard scaling and the given model.\"\"\"\n",
    "    return Pipeline([\n",
    "        ('scaler', StandardScaler()),\n",
    "        ('model', model)\n",
    "    ])\n",
    "\n",
    "models = {\n",
    "    'KNN': pipe(KNeighborsClassifier(n_neighbors=5, weights='uniform', n_jobs=-1, leaf_size=30, algorithm=\"auto\", p=2)),\n",
    "    'LDA': pipe(LinearDiscriminantAnalysis()),\n",
    "    'LinearRegression': pipe(LinearRegression()),\n",
    "    'LogisticRegression': pipe(LogisticRegression(max_iter=500, random_state=RANDOM_STATE)),\n",
    "    'DecisionTree': pipe(DecisionTreeClassifier(random_state=RANDOM_STATE)),\n",
    "    'NaiveBayes': pipe(GaussianNB())\n",
    "}\n",
    "\n",
    "# Fit all models\n",
    "for name, mdl in models.items():\n",
    "    mdl.fit(X_train, y_train)\n",
    "    print(f'{name} fitted.')"
   ]
  },
  {
   "cell_type": "markdown",
   "id": "76db8693-d3bd-4c67-8cfd-a36e8cb8e611",
   "metadata": {
    "tags": []
   },
   "source": [
    "## Model Evaluation: Individual Metrics\n",
    "\n",
    "We evaluate each model on the test set, reporting recall (priority), precision, accuracy, and confusion matrix.\n",
    "For regression models, we threshold predictions to obtain binary outputs."
   ]
  },
  {
   "cell_type": "code",
   "execution_count": 7,
   "id": "61c3ed29-5701-4364-884f-203b96018289",
   "metadata": {
    "tags": []
   },
   "outputs": [
    {
     "name": "stdout",
     "output_type": "stream",
     "text": [
      "KNN: Recall=0.3737 | Precision=0.9594 | Accuracy=0.9992\n",
      "Confusion Matrix:\n",
      "[[1270855      26]\n",
      " [   1029     614]]\n",
      "\n",
      "LDA: Recall=0.3634 | Precision=0.7398 | Accuracy=0.9990\n",
      "Confusion Matrix:\n",
      "[[1270671     210]\n",
      " [   1046     597]]\n",
      "\n",
      "LinearRegression: Recall=0.1004 | Precision=1.0000 | Accuracy=0.9988\n",
      "Confusion Matrix:\n",
      "[[1270881       0]\n",
      " [   1478     165]]\n",
      "\n",
      "LogisticRegression: Recall=0.4206 | Precision=0.9033 | Accuracy=0.9992\n",
      "Confusion Matrix:\n",
      "[[1270807      74]\n",
      " [    952     691]]\n",
      "\n",
      "DecisionTree: Recall=0.8612 | Precision=0.8794 | Accuracy=0.9997\n",
      "Confusion Matrix:\n",
      "[[1270687     194]\n",
      " [    228    1415]]\n",
      "\n",
      "NaiveBayes: Recall=0.1114 | Precision=0.0481 | Accuracy=0.9960\n",
      "Confusion Matrix:\n",
      "[[1267256    3625]\n",
      " [   1460     183]]\n",
      "\n"
     ]
    }
   ],
   "source": [
    "def lr_scores(model, X):\n",
    "    # pipeline steps: scaler then model\n",
    "    scaler = model.named_steps['scaler']\n",
    "    reg    = model.named_steps['model']\n",
    "    Xs = scaler.transform(X)\n",
    "    return reg.predict(Xs)\n",
    "\n",
    "results = []\n",
    "\n",
    "for name, mdl in models.items():\n",
    "    if name == 'LinearRegression':\n",
    "        y_pred = (lr_scores(mdl, X_test) > 0.5).astype(int)\n",
    "    else:\n",
    "        y_pred = mdl.predict(X_test)\n",
    "    rec = recall_score(y_test, y_pred)\n",
    "    pre = precision_score(y_test, y_pred)\n",
    "    acc = accuracy_score(y_test, y_pred)\n",
    "    conf = confusion_matrix(y_test, y_pred)\n",
    "    results.append({\n",
    "        'Model': name,\n",
    "        'Recall': rec,\n",
    "        'Precision': pre,\n",
    "        'Accuracy': acc,\n",
    "        'ConfusionMatrix': conf\n",
    "    })\n",
    "    print(f\"{name}: Recall={rec:.4f} | Precision={pre:.4f} | Accuracy={acc:.4f}\")\n",
    "    print(f\"Confusion Matrix:\\n{conf}\\n\")"
   ]
  },
  {
   "cell_type": "markdown",
   "id": "dfb6413a-a3d1-4108-97c3-383ee8cc3440",
   "metadata": {},
   "source": [
    "## Ensemble Construction and Evaluation\n",
    "\n",
    "Inspired by Chung & Lee (2023), we create an ensemble that aims for perfect recall. The ensemble combines KNN, LDA, and Linear Regression, with logic adjusted to maximize recall. The logic can be further tuned using additional models if needed."
   ]
  },
  {
   "cell_type": "code",
   "execution_count": 12,
   "id": "4a5523d4-0f1b-431c-b128-001f45c77f58",
   "metadata": {
    "tags": []
   },
   "outputs": [
    {
     "name": "stdout",
     "output_type": "stream",
     "text": [
      "Ensemble Recall: 0.9761146496815286\n",
      "Ensemble Precision: 0.3730979914790018\n",
      "Ensemble Accuracy: 0.999178797413644\n",
      "Confusion Matrix:\n",
      " [[1270866      15]\n",
      " [   1030     613]]\n"
     ]
    }
   ],
   "source": [
    "# Get predictions/scores from key models\n",
    "knn_pred = models['KNN'].predict(X_test)\n",
    "lda_pred = models['LDA'].predict(X_test)\n",
    "\n",
    "lr_score = lr_scores(models['LinearRegression'], X_test)\n",
    "lr_mean  = lr_score.mean()\n",
    "\n",
    "ensemble = knn_pred.copy()\n",
    "for i in range(len(knn_pred)):\n",
    "    # If \"non-fraud\" is indicated by either KNN or LDA\n",
    "    if knn_pred[i] == 0 or lda_pred[i] == 0:\n",
    "        if lr_score[i] < lr_mean:\n",
    "            ensemble[i] = 0  # Predict fraud\n",
    "    # If \"fraud\" is indicated by either KNN or LDA\n",
    "    elif knn_pred[i] == 1 or lda_pred[i] == 1:\n",
    "        if lr_score[i] > lr_mean:\n",
    "            ensemble[i] = 1  # Predict non-fraud\n",
    "    # Otherwise, allocate predicted values from KNN to remaining cases\n",
    "    else:\n",
    "        ensemble[i] = knn_pred[i]\n",
    "\n",
    "print('Ensemble Recall:', recall_score(ensemble, y_test))\n",
    "print('Ensemble Precision:', precision_score(ensemble, y_test, zero_division=0))\n",
    "print('Ensemble Accuracy:', accuracy_score(y_test, ensemble))\n",
    "print('Confusion Matrix:\\n', confusion_matrix(y_test, ensemble))"
   ]
  },
  {
   "cell_type": "markdown",
   "id": "069fb3bf-acee-455c-9eaa-6e9f919e75e7",
   "metadata": {},
   "source": [
    "## Results Comparison and Analysis\n",
    "\n",
    "We compare the recall, precision, and accuracy of all individual models and the ensemble in a summary table. We also visualize the trade-off between recall and precision."
   ]
  },
  {
   "cell_type": "code",
   "execution_count": 14,
   "id": "f7466497-3aa9-4abf-8848-32f572382459",
   "metadata": {
    "tags": []
   },
   "outputs": [
    {
     "data": {
      "text/html": [
       "<div>\n",
       "<style scoped>\n",
       "    .dataframe tbody tr th:only-of-type {\n",
       "        vertical-align: middle;\n",
       "    }\n",
       "\n",
       "    .dataframe tbody tr th {\n",
       "        vertical-align: top;\n",
       "    }\n",
       "\n",
       "    .dataframe thead th {\n",
       "        text-align: right;\n",
       "    }\n",
       "</style>\n",
       "<table border=\"1\" class=\"dataframe\">\n",
       "  <thead>\n",
       "    <tr style=\"text-align: right;\">\n",
       "      <th></th>\n",
       "      <th>Model</th>\n",
       "      <th>Recall</th>\n",
       "      <th>Accuracy</th>\n",
       "    </tr>\n",
       "  </thead>\n",
       "  <tbody>\n",
       "    <tr>\n",
       "      <th>0</th>\n",
       "      <td>KNN</td>\n",
       "      <td>0.373707</td>\n",
       "      <td>0.999171</td>\n",
       "    </tr>\n",
       "    <tr>\n",
       "      <th>1</th>\n",
       "      <td>LDA</td>\n",
       "      <td>0.363360</td>\n",
       "      <td>0.999013</td>\n",
       "    </tr>\n",
       "    <tr>\n",
       "      <th>2</th>\n",
       "      <td>LinearRegression</td>\n",
       "      <td>0.100426</td>\n",
       "      <td>0.998839</td>\n",
       "    </tr>\n",
       "    <tr>\n",
       "      <th>3</th>\n",
       "      <td>LogisticRegression</td>\n",
       "      <td>0.420572</td>\n",
       "      <td>0.999194</td>\n",
       "    </tr>\n",
       "    <tr>\n",
       "      <th>4</th>\n",
       "      <td>DecisionTree</td>\n",
       "      <td>0.861229</td>\n",
       "      <td>0.999668</td>\n",
       "    </tr>\n",
       "    <tr>\n",
       "      <th>5</th>\n",
       "      <td>NaiveBayes</td>\n",
       "      <td>0.111382</td>\n",
       "      <td>0.996004</td>\n",
       "    </tr>\n",
       "    <tr>\n",
       "      <th>6</th>\n",
       "      <td>Ensemble</td>\n",
       "      <td>0.976115</td>\n",
       "      <td>0.999179</td>\n",
       "    </tr>\n",
       "  </tbody>\n",
       "</table>\n",
       "</div>"
      ],
      "text/plain": [
       "                Model    Recall  Accuracy\n",
       "0                 KNN  0.373707  0.999171\n",
       "1                 LDA  0.363360  0.999013\n",
       "2    LinearRegression  0.100426  0.998839\n",
       "3  LogisticRegression  0.420572  0.999194\n",
       "4        DecisionTree  0.861229  0.999668\n",
       "5          NaiveBayes  0.111382  0.996004\n",
       "6            Ensemble  0.373098  0.999179"
      ]
     },
     "metadata": {},
     "output_type": "display_data"
    },
    {
     "data": {
      "image/png": "[encoded data removed]",
      "text/plain": [
       "<Figure size 600x500 with 2 Axes>"
      ]
     },
     "metadata": {},
     "output_type": "display_data"
    }
   ],
   "source": [
    "from sklearn.metrics import ConfusionMatrixDisplay\n",
    "\n",
    "# Summary table\n",
    "summary = pd.DataFrame(results)[['Model', 'Recall', 'Accuracy']]\n",
    "\n",
    "# Add ensemble result\n",
    "summary.loc[len(summary.index)] = ['Ensemble', recall_score(y_test, ensemble), accuracy_score(y_test, ensemble)]\n",
    "display(summary)\n",
    "\n",
    "cm = confusion_matrix(y_test, ensemble)\n",
    "\n",
    "# Define labels for your convention\n",
    "labels = ['Non-Fraud', 'Fraud']\n",
    "\n",
    "plt.figure(figsize=(6,5))\n",
    "sns.heatmap(cm, annot=True, fmt='d', cmap='Blues', \n",
    "            xticklabels=labels, yticklabels=labels, linewidths=.5, linecolor='black')\n",
    "plt.xlabel('True Label')\n",
    "plt.ylabel('Predicted Label')\n",
    "plt.title('Ensemble Confusion Matrix')\n",
    "plt.show()"
   ]
  },
  {
   "cell_type": "markdown",
   "id": "9a7a549f-6fb2-4dcb-8a1e-a09b6d481056",
   "metadata": {},
   "source": [
    "## References\n",
    "\n",
    "- Chung, H., & Lee, J. (2023). \"A High-Recall Ensemble Approach for Fraud Detection in Financial Transactions.\"\n",
    "- [PaySim Dataset on Kaggle](https://www.kaggle.com/datasets/ntnu-testimon/paysim1)\n",
    "- E. A. Lopez-Rojas , A. Elmir, and S. Axelsson. \"PaySim: A financial mobile money simulator for fraud detection\". In: The 28th European Modeling and Simulation Symposium-EMSS, Larnaca, Cyprus. 2016\n",
    "- Scikit-learn documentation: https://scikit-learn.org/stable/documentation.html\n",
    "- [Project Repo](https://github.com/dizzydroid/fraud-detection)\n",
    "\n",
    "---"
   ]
  }
 ],
 "metadata": {
  "kernelspec": {
   "display_name": ".conda-default:Python",
   "language": "python",
   "name": "conda-env-.conda-default-py"
  },
  "language_info": {
   "codemirror_mode": {
    "name": "ipython",
    "version": 3
   },
   "file_extension": ".py",
   "mimetype": "text/x-python",
   "name": "python",
   "nbconvert_exporter": "python",
   "pygments_lexer": "ipython3",
   "version": "3.9.19"
  }
 },
 "nbformat": 4,
 "nbformat_minor": 5
}
