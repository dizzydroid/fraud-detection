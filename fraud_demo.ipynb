{
 "cells": [
  {
   "cell_type": "markdown",
   "id": "4b00444d-72dd-43a2-88ca-7d89b32c7fa1",
   "metadata": {},
   "source": [
    "# fraud_demo.ipynb – A runnable Demo Notebook"
   ]
  },
  {
   "cell_type": "markdown",
   "id": "4051702b-13cc-42ab-a94b-3c4210d2ca0c",
   "metadata": {},
   "source": [
    "### A Demo notebook that doesn't break your CPU\n",
    "Avoids CPU overload by loading cached KNN predictions instead of recomputing them on the full dataset."
   ]
  },
  {
   "cell_type": "code",
   "execution_count": 1,
   "id": "d23978ce-fb2e-4264-9126-37b6ed7cf902",
   "metadata": {
    "tags": []
   },
   "outputs": [],
   "source": [
    "import sys\n",
    "from pathlib import Path\n",
    "\n",
    "project_root = Path().resolve()\n",
    "src_dir = project_root / \"src\"\n",
    "\n",
    "sys.path.append(str(project_root))\n",
    "sys.path.append(str(src_dir))\n",
    "\n",
    "import warnings\n",
    "from sklearn.exceptions import InconsistentVersionWarning\n",
    "\n",
    "# Suppress only InconsistentVersionWarning\n",
    "warnings.filterwarnings(\"ignore\", category=InconsistentVersionWarning)\n",
    "\n",
    "import os\n",
    "import numpy as np\n",
    "import pandas as pd\n",
    "import pickle\n",
    "from pathlib import Path\n",
    "\n",
    "from src.models.knn import KNNModel\n",
    "from src.models.lda import LDAModel\n",
    "from src.models.linreg import LinearRegressionModel\n",
    "from sklearn.metrics import (\n",
    "    confusion_matrix, accuracy_score, recall_score,\n",
    "    precision_score, f1_score, roc_curve, auc\n",
    ")\n",
    "\n",
    "from src import ARTIFACTS_DIR, PROC_DIR"
   ]
  },
  {
   "cell_type": "code",
   "execution_count": 2,
   "id": "f8cae71e-b92c-4e5b-b6eb-31fa2f39b8e4",
   "metadata": {
    "tags": []
   },
   "outputs": [],
   "source": [
    "X_test = pd.read_csv(Path(PROC_DIR, \"X_test.csv\")).values"
   ]
  },
  {
   "cell_type": "code",
   "execution_count": 3,
   "id": "276c371c-81ff-4909-9951-d6437a79d7fe",
   "metadata": {
    "tags": []
   },
   "outputs": [
    {
     "name": "stdout",
     "output_type": "stream",
     "text": [
      "[demo] Loaded cached KNN predictions.\n"
     ]
    }
   ],
   "source": [
    "knn_pred_path = Path(ARTIFACTS_DIR, \"knn_pred.npy\")\n",
    "\n",
    "if knn_pred_path.exists():\n",
    "    knn_pred = np.load(knn_pred_path)\n",
    "    print(\"[demo] Loaded cached KNN predictions.\")\n",
    "else:\n",
    "    print(\"[demo] Running KNN prediction...\")\n",
    "    with open(Path(ARTIFACTS_DIR, \"knn.pkl\"), \"rb\") as f:\n",
    "        knn_model = pickle.load(f)\n",
    "    knn_pred = knn_model.predict(X_test)\n",
    "    np.save(knn_pred_path, knn_pred)\n",
    "    print(\"[demo] KNN predictions saved.\")"
   ]
  },
  {
   "cell_type": "code",
   "execution_count": 4,
   "id": "fe7b0872-c1ae-487d-a217-78673782f935",
   "metadata": {
    "tags": []
   },
   "outputs": [],
   "source": [
    "with open(Path(ARTIFACTS_DIR, \"lda.pkl\"), \"rb\") as f:\n",
    "    lda_model = pickle.load(f)\n",
    "\n",
    "with open(Path(ARTIFACTS_DIR, \"lr.pkl\"), \"rb\") as f:\n",
    "    lr_model = pickle.load(f)\n",
    "\n",
    "lda_pred = lda_model.predict(X_test)\n",
    "lr_score = lr_model.predict(X_test)  # Continuous score"
   ]
  },
  {
   "cell_type": "code",
   "execution_count": 5,
   "id": "b9c34c18-4979-42ef-ab2d-a0475c2f4eee",
   "metadata": {
    "tags": []
   },
   "outputs": [],
   "source": [
    "lr_mean = lr_score.mean()\n",
    "ensemble_pred = knn_pred.copy()\n",
    "\n",
    "for i in range(len(knn_pred)):\n",
    "    if knn_pred[i] == 0 or lda_pred[i] == 0:\n",
    "        if lr_score[i] < lr_mean:\n",
    "            ensemble_pred[i] = 0\n",
    "    elif knn_pred[i] == 1 or lda_pred[i] == 1:\n",
    "        if lr_score[i] > lr_mean:\n",
    "            ensemble_pred[i] = 1"
   ]
  },
  {
   "cell_type": "code",
   "execution_count": 6,
   "id": "02192efb-0511-47d2-a6bf-c7d6770a8147",
   "metadata": {
    "tags": []
   },
   "outputs": [
    {
     "name": "stdout",
     "output_type": "stream",
     "text": [
      "\n",
      "--- Evaluation Metrics ---\n",
      "Recall   : 1.0000\n",
      "Accuracy : 0.9992\n",
      "F1 Score : 0.9996\n",
      "ROC AUC  : 0.3135\n",
      "\n",
      "Confusion Matrix:\n",
      "[[1270866      15]\n",
      " [   1030     613]]\n"
     ]
    }
   ],
   "source": [
    "y_true_path = Path(ARTIFACTS_DIR, \"y_true.npy\")\n",
    "if not y_true_path.exists():\n",
    "    print(\"[demo] Ground truth labels not found. Skipping evaluation.\")\n",
    "else:\n",
    "    y_true = np.load(y_true_path)\n",
    "\n",
    "    cm = confusion_matrix(y_true, ensemble_pred, labels=[0, 1])\n",
    "\n",
    "    fpr, tpr, _ = roc_curve(y_true, ensemble_pred, pos_label=0)\n",
    "    roc_auc = auc(fpr, tpr)\n",
    "    recall = float(recall_score(y_true, ensemble_pred, pos_label=0))\n",
    "    accuracy = float(accuracy_score(y_true, ensemble_pred))\n",
    "    f1 = float(f1_score(y_true, ensemble_pred, pos_label=0))\n",
    "\n",
    "    print(\"\\n--- Evaluation Metrics ---\")\n",
    "    print(f\"Recall   : {recall:.4f}\")\n",
    "    print(f\"Accuracy : {accuracy:.4f}\")\n",
    "    print(f\"F1 Score : {f1:.4f}\")\n",
    "    print(f\"ROC AUC  : {roc_auc:.4f}\")\n",
    "    print(\"\\nConfusion Matrix:\")\n",
    "    print(cm)"
   ]
  },
  {
   "cell_type": "code",
   "execution_count": 7,
   "id": "ff78da4b-b14b-4925-bde3-995037db03e0",
   "metadata": {
    "tags": []
   },
   "outputs": [
    {
     "data": {
      "image/png": "[encoded data removed]",
      "text/plain": [
       "<Figure size 600x500 with 1 Axes>"
      ]
     },
     "metadata": {},
     "output_type": "display_data"
    }
   ],
   "source": [
    "import matplotlib.pyplot as plt\n",
    "import seaborn as sns\n",
    "\n",
    "# Confusion matrix as DataFrame\n",
    "cm_labels = ['Non-Fraud', 'Fraud']\n",
    "cm_df = pd.DataFrame(cm, index=cm_labels, columns=cm_labels)\n",
    "\n",
    "plt.figure(figsize=(6, 5))\n",
    "sns.heatmap(cm_df, annot=True, fmt='d', cmap='Blues', cbar=False)\n",
    "plt.title(\"Confusion Matrix (Ensemble Prediction)\")\n",
    "plt.xlabel(\"Predicted\")\n",
    "plt.ylabel(\"Actual\")\n",
    "plt.tight_layout()\n",
    "plt.show()"
   ]
  }
 ],
 "metadata": {
  "kernelspec": {
   "display_name": ".venv",
   "language": "python",
   "name": "python3"
  },
  "language_info": {
   "codemirror_mode": {
    "name": "ipython",
    "version": 3
   },
   "file_extension": ".py",
   "mimetype": "text/x-python",
   "name": "python",
   "nbconvert_exporter": "python",
   "pygments_lexer": "ipython3",
   "version": "3.12.3"
  }
 },
 "nbformat": 4,
 "nbformat_minor": 5
}
